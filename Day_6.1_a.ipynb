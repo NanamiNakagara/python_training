{
 "cells": [
  {
   "cell_type": "markdown",
   "metadata": {},
   "source": [
    "## Task 1.1 (Without Unpacking)\n",
    "\n",
    "points = [(3, 4), (6, 12) , (10, 13)]\n",
    "\n",
    "# Expected Output\n",
    "distances= [5, 13.4, 16.2]"
   ]
  },
  {
   "cell_type": "code",
   "execution_count": 13,
   "metadata": {},
   "outputs": [
    {
     "name": "stdout",
     "output_type": "stream",
     "text": [
      "[5.0, 13.416407864998739, 16.401219466856727]\n"
     ]
    }
   ],
   "source": [
    "points = [(3, 4), (6, 12) , (10, 13)]\n",
    "output = []\n",
    "\n",
    "\n",
    "output2=[(point[0]**2 + point[1]**2)**0.5 for point in points]\n",
    "print(output2)"
   ]
  },
  {
   "cell_type": "markdown",
   "metadata": {},
   "source": []
  },
  {
   "cell_type": "code",
   "execution_count": 12,
   "metadata": {},
   "outputs": [
    {
     "name": "stdout",
     "output_type": "stream",
     "text": [
      "[49]\n"
     ]
    }
   ],
   "source": [
    "print(a)\n"
   ]
  },
  {
   "cell_type": "markdown",
   "metadata": {},
   "source": [
    "distances = []\n",
    "for x, y  in points:\n",
    "    distance = round((x **2 + y** 2) ** 0.5, 2)\n",
    "    distances.append(distance)\n",
    "\n",
    "print(distances)"
   ]
  },
  {
   "cell_type": "code",
   "execution_count": 14,
   "metadata": {},
   "outputs": [
    {
     "name": "stdout",
     "output_type": "stream",
     "text": [
      "[5.0, 13.42, 16.4]\n"
     ]
    }
   ],
   "source": [
    "distances = []\n",
    "for x, y  in points:\n",
    "    distance = round((x **2 + y** 2) ** 0.5, 2)\n",
    "    distances.append(distance)\n",
    "\n",
    "print(distances)"
   ]
  },
  {
   "cell_type": "code",
   "execution_count": null,
   "metadata": {},
   "outputs": [],
   "source": []
  },
  {
   "cell_type": "markdown",
   "metadata": {},
   "source": [
    "distances = []\n",
    "for x, y  in points:\n",
    "    distance = round((x **2 + y** 2) ** 0.5, 2)\n",
    "    distances.append(distance)\n",
    "\n",
    "print(distances)"
   ]
  },
  {
   "cell_type": "code",
   "execution_count": 15,
   "metadata": {},
   "outputs": [
    {
     "name": "stdout",
     "output_type": "stream",
     "text": [
      "[5.0, 13.42, 16.4]\n"
     ]
    }
   ],
   "source": [
    "distances = []\n",
    "for x, y  in points:\n",
    "    distance = round((x **2 + y** 2) ** 0.5, 2)\n",
    "    distances.append(distance)\n",
    "\n",
    "def fire(fire_rows):\n",
    "    i=1\n",
    "\n",
    "    \n",
    "print(distances)"
   ]
  },
  {
   "cell_type": "markdown",
   "metadata": {},
   "source": [
    "def def_name():\n",
    "    body\n",
    "    return"
   ]
  },
  {
   "cell_type": "code",
   "execution_count": null,
   "metadata": {},
   "outputs": [],
   "source": [
    "distances = []\n",
    "for x, y  in points:\n",
    "    distance = round((x **2 + y** 2) ** 0.5, 2)\n",
    "    distances.append(distance)\n",
    "\n",
    "def fire(fire_rows,character):\n",
    "    i=1\n",
    "while i<=fire_rows:\n",
    "    print(character)\n",
    "\n",
    "    \n",
    "print(distances)"
   ]
  },
  {
   "cell_type": "markdown",
   "metadata": {},
   "source": [
    "fire(2, \"🍓\") # call\n",
    "fire(6, \"🍍\") \n",
    "fire(4, \"🥕\")"
   ]
  },
  {
   "cell_type": "code",
   "execution_count": 16,
   "metadata": {},
   "outputs": [
    {
     "ename": "NameError",
     "evalue": "name 'fire' is not defined",
     "output_type": "error",
     "traceback": [
      "\u001b[1;31m---------------------------------------------------------------------------\u001b[0m",
      "\u001b[1;31mNameError\u001b[0m                                 Traceback (most recent call last)",
      "Cell \u001b[1;32mIn[16], line 1\u001b[0m\n\u001b[1;32m----> 1\u001b[0m \u001b[43mfire\u001b[49m(\u001b[38;5;241m2\u001b[39m, \u001b[38;5;124m\"\u001b[39m\u001b[38;5;124m🍓\u001b[39m\u001b[38;5;124m\"\u001b[39m) \u001b[38;5;66;03m# call\u001b[39;00m\n\u001b[0;32m      2\u001b[0m fire(\u001b[38;5;241m6\u001b[39m, \u001b[38;5;124m\"\u001b[39m\u001b[38;5;124m🍍\u001b[39m\u001b[38;5;124m\"\u001b[39m) \n\u001b[0;32m      3\u001b[0m fire(\u001b[38;5;241m4\u001b[39m, \u001b[38;5;124m\"\u001b[39m\u001b[38;5;124m🥕\u001b[39m\u001b[38;5;124m\"\u001b[39m)\n",
      "\u001b[1;31mNameError\u001b[0m: name 'fire' is not defined"
     ]
    }
   ],
   "source": [
    "fire(2, \"🍓\") # call\n",
    "fire(6, \"🍍\") \n",
    "fire(4, \"🥕\")"
   ]
  },
  {
   "cell_type": "markdown",
   "metadata": {},
   "source": [
    "## Tasks\n",
    " \n",
    " 1. `get_total_items(shop)` -> 50\n",
    " 2. `get_shop_value(shop)` -> 19"
   ]
  },
  {
   "cell_type": "code",
   "execution_count": 17,
   "metadata": {},
   "outputs": [],
   "source": [
    "shop = [\n",
    "    {\"name\": \"Apple\", \"quantity\": 30, \"price\": 0.50}, # 15\n",
    "    {\"name\": \"Banana\", \"quantity\": 20, \"price\": 0.20}, # 4\n",
    "] "
   ]
  },
  {
   "cell_type": "code",
   "execution_count": 18,
   "metadata": {},
   "outputs": [
    {
     "name": "stdout",
     "output_type": "stream",
     "text": [
      "50\n"
     ]
    }
   ],
   "source": [
    "def get_total_items(shop):\n",
    "   total_items=0\n",
    "   for s in shop:\n",
    "      total_items = total_items + s['quantity']\n",
    "   print(total_items)\n",
    "\n",
    "\n",
    "get_total_items(shop)  \n"
   ]
  },
  {
   "cell_type": "code",
   "execution_count": 23,
   "metadata": {},
   "outputs": [
    {
     "name": "stdout",
     "output_type": "stream",
     "text": [
      "50\n"
     ]
    }
   ],
   "source": [
    "def get_total_items(shop):\n",
    "   quantities = [s['quantity']  for s in shop]\n",
    "   return sum(quantities)\n",
    "\n",
    "\n",
    "print(get_total_items(shop))  # ✅\n"
   ]
  },
  {
   "cell_type": "code",
   "execution_count": 26,
   "metadata": {},
   "outputs": [
    {
     "name": "stdout",
     "output_type": "stream",
     "text": [
      "19.0\n",
      "The sum is : 19.0\n"
     ]
    }
   ],
   "source": [
    "def get_shop_value(shop):\n",
    "  cost =  [item['quantity'] * item['price']  for item in shop]\n",
    "  return sum(cost)\n",
    "\n",
    "print(get_shop_value(shop))\n",
    "print(f\"The sum is : {get_shop_value(shop)}\")"
   ]
  },
  {
   "cell_type": "markdown",
   "metadata": {},
   "source": [
    "## Task 2\n",
    "\n",
    "Do you add more Y/N? Y\n",
    "## Task 3\n",
    "\n",
    "Main Menu\n",
    "1. Add Product\n",
    "2. Print all product in shop\n",
    "3. Exit\n",
    "\n",
    "What you liked about the training?"
   ]
  },
  {
   "cell_type": "code",
   "execution_count": null,
   "metadata": {},
   "outputs": [],
   "source": [
    "#Task2 \n",
    "def "
   ]
  }
 ],
 "metadata": {
  "kernelspec": {
   "display_name": "Python 3",
   "language": "python",
   "name": "python3"
  },
  "language_info": {
   "codemirror_mode": {
    "name": "ipython",
    "version": 3
   },
   "file_extension": ".py",
   "mimetype": "text/x-python",
   "name": "python",
   "nbconvert_exporter": "python",
   "pygments_lexer": "ipython3",
   "version": "3.13.0"
  }
 },
 "nbformat": 4,
 "nbformat_minor": 2
}

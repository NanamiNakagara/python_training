{
 "cells": [
  {
   "cell_type": "code",
   "execution_count": 3,
   "metadata": {},
   "outputs": [
    {
     "name": "stdout",
     "output_type": "stream",
     "text": [
      "🔥\n",
      "🔥🔥\n",
      "🔥🔥🔥\n",
      "🔥🔥🔥🔥\n",
      "🔥🔥🔥🔥🔥\n"
     ]
    }
   ],
   "source": [
    "i = 1\n",
    "while i <= 5:\n",
    "    print(\"🔥\" * i)\n",
    "    i = i + 1"
   ]
  },
  {
   "cell_type": "markdown",
   "metadata": {},
   "source": [
    "## `range(start:end)`\n",
    "`range()` is usualy used with `for` loop\n",
    "- always **starts** with 0\n",
    "- end is not *included*\n",
    "\n",
    "\n",
    "```py\n",
    "print(\"Hello\")\n",
    "print(\"Hi\")\n",
    "```\n",
    "\n",
    "\n",
    "```js\n",
    "console.log(5)\n",
    "```\n"
   ]
  },
  {
   "cell_type": "code",
   "execution_count": null,
   "metadata": {},
   "outputs": [],
   "source": [
    "a=input('please tell me a number?')\n",
    "\n",
    "print('Area of the cirlce '+str(float(a)**2*3.14))"
   ]
  },
  {
   "cell_type": "code",
   "execution_count": 1,
   "metadata": {},
   "outputs": [],
   "source": [
    "##sesese##"
   ]
  },
  {
   "cell_type": "markdown",
   "metadata": {},
   "source": [
    "<h3>aaaa</h3>"
   ]
  },
  {
   "cell_type": "code",
   "execution_count": 10,
   "metadata": {},
   "outputs": [
    {
     "name": "stdout",
     "output_type": "stream",
     "text": [
      "4\n",
      "16\n",
      "36\n",
      "64\n",
      "100\n",
      "144\n"
     ]
    }
   ],
   "source": [
    "# Task - 1.3\n",
    "\n",
    "# 4\n",
    "# 16\n",
    "# 36\n",
    "# 64\n",
    "# 100\n",
    "# 144 \n",
    "for i in range(2,13,2):\n",
    "    print(i**2)\n",
    "\n",
    "\n",
    "\n",
    "\n"
   ]
  },
  {
   "cell_type": "markdown",
   "metadata": {},
   "source": []
  }
 ],
 "metadata": {
  "kernelspec": {
   "display_name": "Python 3",
   "language": "python",
   "name": "python3"
  },
  "language_info": {
   "codemirror_mode": {
    "name": "ipython",
    "version": 3
   },
   "file_extension": ".py",
   "mimetype": "text/x-python",
   "name": "python",
   "nbconvert_exporter": "python",
   "pygments_lexer": "ipython3",
   "version": "3.13.0"
  }
 },
 "nbformat": 4,
 "nbformat_minor": 2
}

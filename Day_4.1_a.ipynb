{
 "cells": [
  {
   "cell_type": "markdown",
   "metadata": {},
   "source": []
  },
  {
   "cell_type": "markdown",
   "metadata": {
    "vscode": {
     "languageId": "plaintext"
    }
   },
   "source": [
    "## Task 2.1\n",
    "#Find longer names (>= 6 letter)\n",
    "\n",
    "characters = ['Hello kitty', 'Goku', 'Pikachu', 'Luffy', 'Yuji Itadori', \"Levi\"]\n",
    "\n",
    "### Expected Output\n",
    "#`['Hello kitty', 'Pikachu', 'Yuji Itadori']`\n",
    "\n",
    "\n"
   ]
  },
  {
   "cell_type": "code",
   "execution_count": 8,
   "metadata": {},
   "outputs": [
    {
     "name": "stdout",
     "output_type": "stream",
     "text": [
      "Hello kitty\n",
      "Pikachu\n",
      "Yuji Itadori\n"
     ]
    }
   ],
   "source": [
    "characters = ['Hello kitty', 'Goku', 'Pikachu', 'Luffy', 'Yuji Itadori', \"Levi\"]\n",
    "a=[]\n",
    "# Hint - if\n",
    "\n",
    "for i in range(len(characters)):\n",
    "    if len(characters[i])>=6:\n",
    "        # print(len(characters[i]))\n",
    "        print(characters[i])\n",
    "\n",
    "        a.append(characters[i])"
   ]
  },
  {
   "cell_type": "code",
   "execution_count": 9,
   "metadata": {},
   "outputs": [
    {
     "name": "stdout",
     "output_type": "stream",
     "text": [
      "['Hello kitty', 'Pikachu', 'Yuji Itadori']\n"
     ]
    }
   ],
   "source": [
    "print(a)"
   ]
  },
  {
   "cell_type": "markdown",
   "metadata": {},
   "source": [
    "## Task 2.2\n",
    "\n",
    "Calculate the total of shopping_items & apply tax of 10%\n",
    "\n",
    "```py\n",
    "shopping_items = [1000, 5000,  4000, 2000, 3000]\n",
    "```\n",
    "\n",
    "Expected Output\n",
    "\n",
    "```\n",
    "Your totals is 15,000\n",
    "Tax is 10%      1,500 \n",
    "Your grand total is 16,500"
   ]
  },
  {
   "cell_type": "code",
   "execution_count": 18,
   "metadata": {},
   "outputs": [
    {
     "name": "stdout",
     "output_type": "stream",
     "text": [
      "15000\n"
     ]
    }
   ],
   "source": [
    "shopping_items = [1000, 5000,  4000, 2000, 3000]\n",
    "shopping_items[0:5]\n",
    "total_price=0\n",
    "\n",
    "\n",
    "for i in range(len(shopping_items)):\n",
    "# for i in range(5):\n",
    "    total_price=shopping_items[i]+total_price\n",
    "print(total_price)\n",
    "\n",
    "\n",
    "\n",
    "\n"
   ]
  },
  {
   "cell_type": "code",
   "execution_count": 28,
   "metadata": {},
   "outputs": [
    {
     "name": "stdout",
     "output_type": "stream",
     "text": [
      "\n",
      "Your total is 15,000\n",
      "Tax is 10%    1,500.0 \n",
      "Your grand total is 16,500.0\n",
      "\n"
     ]
    }
   ],
   "source": [
    "shopping_items = [1_000, 5_000,  4_000, 2_000, 3_000] # DX ⬆️\n",
    "\n",
    "total = 0\n",
    "tax_rate = 0.1\n",
    "\n",
    "for item in shopping_items:\n",
    "    total = total + item  # 0 + 1000\n",
    "\n",
    "tax = total * tax_rate\n",
    "grand_total = total + tax\n",
    "\n",
    "print(f\"\"\"\n",
    "Your total is {total:,}\n",
    "Tax is 10%    {tax:,} \n",
    "Your grand total is {grand_total:,}\n",
    "\"\"\")"
   ]
  },
  {
   "cell_type": "code",
   "execution_count": null,
   "metadata": {},
   "outputs": [],
   "source": []
  }
 ],
 "metadata": {
  "kernelspec": {
   "display_name": "Python 3",
   "language": "python",
   "name": "python3"
  },
  "language_info": {
   "codemirror_mode": {
    "name": "ipython",
    "version": 3
   },
   "file_extension": ".py",
   "mimetype": "text/x-python",
   "name": "python",
   "nbconvert_exporter": "python",
   "pygments_lexer": "ipython3",
   "version": "3.13.0"
  }
 },
 "nbformat": 4,
 "nbformat_minor": 2
}
